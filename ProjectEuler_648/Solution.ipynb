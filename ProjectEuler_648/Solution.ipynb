{
 "cells": [
  {
   "cell_type": "markdown",
   "source": [
    "# [ProjectEuler_648](https://projecteuler.net/problem=648)\n",
    "For some fixed $\\rho \\in [0, 1]$, we begin a sum $s$ at $0$ and repeatedly apply a process:\n",
    "\n",
    "- With probability $\\rho$, we add $1$ to $s$, otherwise we add $2$ to $s$.\n",
    "\n",
    "- The process ends when either $s$ is a perfect square or $s$ exceeds $10^{18}$, whichever occurs first.\n",
    "\n",
    "For example, if $s$ goes through $0, 2, 3, 5, 7, 9$, the process ends at $s=9$, and two squares $1$ and $4$ were skipped over.\n",
    "\n",
    "Let $f(\\rho)$ be the expected number of perfect squares skipped over when the process finishes.\n",
    "It can be shown that the power series for $f(\\rho)$ is $\\sum_{k=0}^\\infty a_k \\rho^k$ for a suitable (unique) choice of coefficients $a_k$. Some of the first few coefficients are $a_0=1$, $a_1=0$, $a_5=-18$, $a_{10}=45176$.\n",
    "Let $F(n) = \\sum_{k=0}^n a_k$. You are given that $F(10) = 53964$ and $F(50) \\equiv 842418857 \\pmod{10^9}$.\n",
    "Find $F(1000)$, and give your answer modulo $10^9$."
   ],
   "metadata": {
    "collapsed": false,
    "pycharm": {
     "name": "#%% md\n"
    }
   }
  },
  {
   "cell_type": "markdown",
   "source": [
    "## Theoretical findings\n",
    "Let us consider a random process $X_n$ such that it mimics the process $s$ in the problem without stopping after hitting any square number or the upper bound $10^{18}$. We introduce\n",
    "- $r_k = \\mathbb{P}\\left[ X_n  = k \\text{ for some } n\\right]$,\n",
    "- $q_k = \\mathbb{P}\\left[ X_n  = k^2 + 1 \\text{ for some } n \\text{ and the process didn't hit any square number beforehand}\\right]$.\n",
    "\n",
    "As it is clear from the process definition, all probabilities $r_k, q_k$ can be written as polynomials of a single variable $\\rho$. Then one can check that\n",
    "- Not hitting the number $k$ by the process $X_n$ means that we are hitting number $k-1$ and then step over number $k$ with the step size $2$, which can be translated as\n",
    "\\begin{equation}\n",
    "1-r_k = (1-\\rho) r_{k-1}, \\qquad k\\geq 1.\n",
    "\\end{equation}\n",
    "- Hitting the number $k^2 + 1$ without hitting any square beforehand is equivalent to first hitting the number $(k-1)^2+1$ without hitting a square number, then accumulating $k^2 - 1 - (k-1)^2 - 1 = 2k-3$ in total for some number of steps and then overstepping the number $k^2$ by making a step of size $2$. The above can be rewritten as\n",
    "\\begin{equation}\n",
    "q_k = q_{k-1}*r_{2k-3}*(1-\\rho), \\qquad k\\geq 2.\n",
    "\\end{equation}\n",
    "- Finally, the average number of the squares skipped can be written as\n",
    "\\begin{equation}\n",
    "f\\left(\\rho\\right) = \\sum\\limits_{k=1}^{10^9} q_k.\n",
    "\\end{equation}\n",
    "\n",
    "## Evaluation details\n",
    "- From the above one can see that we are interested in $r_k$ for odd values of $k$ only and $\\deg r_{2i+1} = 2i + 1, r_{2i+1} \\vdots \\rho$.\n",
    "- It is also easy to spot that $\\deg q_k = k^2 - k + 1, q_k \\vdots \\rho^{k-1}$ and we can cut our series at $k = N + 1$. We will then evaluate\n",
    "\\begin{equation}\n",
    "\\hat{f}\\left(\\rho\\right) = \\sum\\limits_{k=1}^{N+1}q_k.\n",
    "\\end{equation}\n",
    "- Therefore, we evaluate two sets of polynomials\n",
    "\\begin{equation}\n",
    "\\left\\{ r_{2i+1}\\right\\}_{i = 0}^{N - 1} \\text{ and }\\left\\{ q_{i+1}\\right\\}_{i,j = 0}^{N}.\n",
    "\\end{equation}"
   ],
   "metadata": {
    "collapsed": false,
    "pycharm": {
     "name": "#%% md\n"
    }
   }
  },
  {
   "cell_type": "code",
   "execution_count": 103,
   "outputs": [],
   "source": [
    "%reload_ext autoreload\n",
    "%autoreload 2\n",
    "import Polynomial as poly\n",
    "import numpy as np\n",
    "N = 10**3\n",
    "M = 10**9"
   ],
   "metadata": {
    "collapsed": false,
    "pycharm": {
     "name": "#%%\n"
    }
   }
  },
  {
   "cell_type": "code",
   "execution_count": 104,
   "outputs": [],
   "source": [
    "def solution(limit, modulo):\n",
    "    rho_polynomial = poly.Polynomial([0, 1], limit, modulo)\n",
    "    one_minus_rho_polynomial = poly.Polynomial([1, -1], limit, modulo)\n",
    "    one_minus_rho_square_polynomial = poly.Polynomial([1, -2, 1], limit, modulo)\n",
    "\n",
    "    r_k = [rho_polynomial]\n",
    "    for _i in range(1, limit):\n",
    "        r_k.append(rho_polynomial+ r_k[-1]*one_minus_rho_square_polynomial)\n",
    "\n",
    "    q_k = [one_minus_rho_polynomial]\n",
    "    for _i in range(1, limit+1):\n",
    "        q_k.append(q_k[-1]*one_minus_rho_polynomial*r_k[_i-1])\n",
    "\n",
    "    f = np.sum([q_k[_i] for _i in range(limit+1)])\n",
    "    return sum(f.coefficients) % modulo"
   ],
   "metadata": {
    "collapsed": false,
    "pycharm": {
     "name": "#%%\n"
    }
   }
  },
  {
   "cell_type": "markdown",
   "source": [
    "## Testing"
   ],
   "metadata": {
    "collapsed": false,
    "pycharm": {
     "name": "#%% md\n"
    }
   }
  },
  {
   "cell_type": "code",
   "execution_count": 105,
   "outputs": [
    {
     "name": "stderr",
     "output_type": "stream",
     "text": [
      "test_solution_medium (__main__.TestNotebook.test_solution_medium) ... ok\n",
      "test_solution_small (__main__.TestNotebook.test_solution_small) ... ok\n",
      "\n",
      "----------------------------------------------------------------------\n",
      "Ran 2 tests in 0.068s\n",
      "\n",
      "OK\n"
     ]
    },
    {
     "data": {
      "text/plain": "<unittest.main.TestProgram at 0x27078412cd0>"
     },
     "execution_count": 105,
     "metadata": {},
     "output_type": "execute_result"
    }
   ],
   "source": [
    "import unittest\n",
    "class TestNotebook(unittest.TestCase):\n",
    "    def test_solution_small(self):\n",
    "        self.assertEqual(solution(10, M), 53964)\n",
    "\n",
    "    def test_solution_medium(self):\n",
    "        self.assertEqual(solution(50, M), 842418857)\n",
    "\n",
    "unittest.main(argv = [''], verbosity = 2, exit = False)"
   ],
   "metadata": {
    "collapsed": false,
    "pycharm": {
     "name": "#%%\n"
    }
   }
  },
  {
   "cell_type": "markdown",
   "source": [
    "## Final answer"
   ],
   "metadata": {
    "collapsed": false,
    "pycharm": {
     "name": "#%% md\n"
    }
   }
  },
  {
   "cell_type": "code",
   "execution_count": 106,
   "outputs": [
    {
     "data": {
      "text/plain": "301483197"
     },
     "execution_count": 106,
     "metadata": {},
     "output_type": "execute_result"
    }
   ],
   "source": [
    "solution(N, M)"
   ],
   "metadata": {
    "collapsed": false,
    "pycharm": {
     "name": "#%%\n"
    }
   }
  }
 ],
 "metadata": {
  "kernelspec": {
   "display_name": "Python 3",
   "language": "python",
   "name": "python3"
  },
  "language_info": {
   "codemirror_mode": {
    "name": "ipython",
    "version": 2
   },
   "file_extension": ".py",
   "mimetype": "text/x-python",
   "name": "python",
   "nbconvert_exporter": "python",
   "pygments_lexer": "ipython2",
   "version": "2.7.6"
  }
 },
 "nbformat": 4,
 "nbformat_minor": 0
}